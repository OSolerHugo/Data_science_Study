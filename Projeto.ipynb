{
  "nbformat": 4,
  "nbformat_minor": 0,
  "metadata": {
    "colab": {
      "provenance": [],
      "authorship_tag": "ABX9TyP4AVE3OJGSzaeFSLdFoZ0W",
      "include_colab_link": true
    },
    "kernelspec": {
      "name": "python3",
      "display_name": "Python 3"
    },
    "language_info": {
      "name": "python"
    }
  },
  "cells": [
    {
      "cell_type": "markdown",
      "metadata": {
        "id": "view-in-github",
        "colab_type": "text"
      },
      "source": [
        "<a href=\"https://colab.research.google.com/github/OSolerHugo/Data_science_Study/blob/main/Projeto.ipynb\" target=\"_parent\"><img src=\"https://colab.research.google.com/assets/colab-badge.svg\" alt=\"Open In Colab\"/></a>"
      ]
    },
    {
      "cell_type": "code",
      "execution_count": 2,
      "metadata": {
        "id": "vwnu4Q8FUZUA"
      },
      "outputs": [],
      "source": [
        "import pandas as pd\n",
        "import numpy as np\n",
        "\n",
        "\n",
        "#from google.colab import drive\n",
        "#drive.mount('drive')"
      ]
    },
    {
      "cell_type": "code",
      "source": [
        "url = 'https://raw.githubusercontent.com/alura-cursos/ML_Classificacao_por_tras_dos_panos/main/Dados/Customer-Churn.csv'\n",
        "\n",
        "data = pd.read_csv(url)\n",
        "\n",
        "data.head()"
      ],
      "metadata": {
        "colab": {
          "base_uri": "https://localhost:8080/",
          "height": 270
        },
        "id": "w4NvGtIiWZcR",
        "outputId": "deed50b7-7352-40b3-bdda-5ff035186ccc"
      },
      "execution_count": 3,
      "outputs": [
        {
          "output_type": "execute_result",
          "data": {
            "text/plain": [
              "   Maior65Anos Conjuge Dependentes  MesesDeContrato TelefoneFixo  \\\n",
              "0            0     Sim         Nao                1          Nao   \n",
              "1            0     Nao         Nao               34          Sim   \n",
              "2            0     Nao         Nao                2          Sim   \n",
              "3            0     Nao         Nao               45          Nao   \n",
              "4            0     Nao         Nao                2          Sim   \n",
              "\n",
              "  VariasLinhasTelefonicas ServicoDeInternet SegurancaOnline BackupOnline  \\\n",
              "0    SemServicoTelefonico               DSL             Nao          Sim   \n",
              "1                     Nao               DSL             Sim          Nao   \n",
              "2                     Nao               DSL             Sim          Sim   \n",
              "3    SemServicoTelefonico               DSL             Sim          Nao   \n",
              "4                     Nao       FibraOptica             Nao          Nao   \n",
              "\n",
              "  SeguroNoDispositivo SuporteTecnico TVaCabo StreamingDeFilmes TipoDeContrato  \\\n",
              "0                 Nao            Nao     Nao               Nao    Mensalmente   \n",
              "1                 Sim            Nao     Nao               Nao          UmAno   \n",
              "2                 Nao            Nao     Nao               Nao    Mensalmente   \n",
              "3                 Sim            Sim     Nao               Nao          UmAno   \n",
              "4                 Nao            Nao     Nao               Nao    Mensalmente   \n",
              "\n",
              "  PagamentoOnline FormaDePagamento  ContaMensal Churn  \n",
              "0             Sim    ChequeDigital        29.85   Nao  \n",
              "1             Nao      ChequePapel        56.95   Nao  \n",
              "2             Sim      ChequePapel        53.85   Sim  \n",
              "3             Nao    DebitoEmConta        42.30   Nao  \n",
              "4             Sim    ChequeDigital        70.70   Sim  "
            ],
            "text/html": [
              "\n",
              "  <div id=\"df-cf50c450-89de-48bc-8529-1fdce1c46e29\">\n",
              "    <div class=\"colab-df-container\">\n",
              "      <div>\n",
              "<style scoped>\n",
              "    .dataframe tbody tr th:only-of-type {\n",
              "        vertical-align: middle;\n",
              "    }\n",
              "\n",
              "    .dataframe tbody tr th {\n",
              "        vertical-align: top;\n",
              "    }\n",
              "\n",
              "    .dataframe thead th {\n",
              "        text-align: right;\n",
              "    }\n",
              "</style>\n",
              "<table border=\"1\" class=\"dataframe\">\n",
              "  <thead>\n",
              "    <tr style=\"text-align: right;\">\n",
              "      <th></th>\n",
              "      <th>Maior65Anos</th>\n",
              "      <th>Conjuge</th>\n",
              "      <th>Dependentes</th>\n",
              "      <th>MesesDeContrato</th>\n",
              "      <th>TelefoneFixo</th>\n",
              "      <th>VariasLinhasTelefonicas</th>\n",
              "      <th>ServicoDeInternet</th>\n",
              "      <th>SegurancaOnline</th>\n",
              "      <th>BackupOnline</th>\n",
              "      <th>SeguroNoDispositivo</th>\n",
              "      <th>SuporteTecnico</th>\n",
              "      <th>TVaCabo</th>\n",
              "      <th>StreamingDeFilmes</th>\n",
              "      <th>TipoDeContrato</th>\n",
              "      <th>PagamentoOnline</th>\n",
              "      <th>FormaDePagamento</th>\n",
              "      <th>ContaMensal</th>\n",
              "      <th>Churn</th>\n",
              "    </tr>\n",
              "  </thead>\n",
              "  <tbody>\n",
              "    <tr>\n",
              "      <th>0</th>\n",
              "      <td>0</td>\n",
              "      <td>Sim</td>\n",
              "      <td>Nao</td>\n",
              "      <td>1</td>\n",
              "      <td>Nao</td>\n",
              "      <td>SemServicoTelefonico</td>\n",
              "      <td>DSL</td>\n",
              "      <td>Nao</td>\n",
              "      <td>Sim</td>\n",
              "      <td>Nao</td>\n",
              "      <td>Nao</td>\n",
              "      <td>Nao</td>\n",
              "      <td>Nao</td>\n",
              "      <td>Mensalmente</td>\n",
              "      <td>Sim</td>\n",
              "      <td>ChequeDigital</td>\n",
              "      <td>29.85</td>\n",
              "      <td>Nao</td>\n",
              "    </tr>\n",
              "    <tr>\n",
              "      <th>1</th>\n",
              "      <td>0</td>\n",
              "      <td>Nao</td>\n",
              "      <td>Nao</td>\n",
              "      <td>34</td>\n",
              "      <td>Sim</td>\n",
              "      <td>Nao</td>\n",
              "      <td>DSL</td>\n",
              "      <td>Sim</td>\n",
              "      <td>Nao</td>\n",
              "      <td>Sim</td>\n",
              "      <td>Nao</td>\n",
              "      <td>Nao</td>\n",
              "      <td>Nao</td>\n",
              "      <td>UmAno</td>\n",
              "      <td>Nao</td>\n",
              "      <td>ChequePapel</td>\n",
              "      <td>56.95</td>\n",
              "      <td>Nao</td>\n",
              "    </tr>\n",
              "    <tr>\n",
              "      <th>2</th>\n",
              "      <td>0</td>\n",
              "      <td>Nao</td>\n",
              "      <td>Nao</td>\n",
              "      <td>2</td>\n",
              "      <td>Sim</td>\n",
              "      <td>Nao</td>\n",
              "      <td>DSL</td>\n",
              "      <td>Sim</td>\n",
              "      <td>Sim</td>\n",
              "      <td>Nao</td>\n",
              "      <td>Nao</td>\n",
              "      <td>Nao</td>\n",
              "      <td>Nao</td>\n",
              "      <td>Mensalmente</td>\n",
              "      <td>Sim</td>\n",
              "      <td>ChequePapel</td>\n",
              "      <td>53.85</td>\n",
              "      <td>Sim</td>\n",
              "    </tr>\n",
              "    <tr>\n",
              "      <th>3</th>\n",
              "      <td>0</td>\n",
              "      <td>Nao</td>\n",
              "      <td>Nao</td>\n",
              "      <td>45</td>\n",
              "      <td>Nao</td>\n",
              "      <td>SemServicoTelefonico</td>\n",
              "      <td>DSL</td>\n",
              "      <td>Sim</td>\n",
              "      <td>Nao</td>\n",
              "      <td>Sim</td>\n",
              "      <td>Sim</td>\n",
              "      <td>Nao</td>\n",
              "      <td>Nao</td>\n",
              "      <td>UmAno</td>\n",
              "      <td>Nao</td>\n",
              "      <td>DebitoEmConta</td>\n",
              "      <td>42.30</td>\n",
              "      <td>Nao</td>\n",
              "    </tr>\n",
              "    <tr>\n",
              "      <th>4</th>\n",
              "      <td>0</td>\n",
              "      <td>Nao</td>\n",
              "      <td>Nao</td>\n",
              "      <td>2</td>\n",
              "      <td>Sim</td>\n",
              "      <td>Nao</td>\n",
              "      <td>FibraOptica</td>\n",
              "      <td>Nao</td>\n",
              "      <td>Nao</td>\n",
              "      <td>Nao</td>\n",
              "      <td>Nao</td>\n",
              "      <td>Nao</td>\n",
              "      <td>Nao</td>\n",
              "      <td>Mensalmente</td>\n",
              "      <td>Sim</td>\n",
              "      <td>ChequeDigital</td>\n",
              "      <td>70.70</td>\n",
              "      <td>Sim</td>\n",
              "    </tr>\n",
              "  </tbody>\n",
              "</table>\n",
              "</div>\n",
              "      <button class=\"colab-df-convert\" onclick=\"convertToInteractive('df-cf50c450-89de-48bc-8529-1fdce1c46e29')\"\n",
              "              title=\"Convert this dataframe to an interactive table.\"\n",
              "              style=\"display:none;\">\n",
              "        \n",
              "  <svg xmlns=\"http://www.w3.org/2000/svg\" height=\"24px\"viewBox=\"0 0 24 24\"\n",
              "       width=\"24px\">\n",
              "    <path d=\"M0 0h24v24H0V0z\" fill=\"none\"/>\n",
              "    <path d=\"M18.56 5.44l.94 2.06.94-2.06 2.06-.94-2.06-.94-.94-2.06-.94 2.06-2.06.94zm-11 1L8.5 8.5l.94-2.06 2.06-.94-2.06-.94L8.5 2.5l-.94 2.06-2.06.94zm10 10l.94 2.06.94-2.06 2.06-.94-2.06-.94-.94-2.06-.94 2.06-2.06.94z\"/><path d=\"M17.41 7.96l-1.37-1.37c-.4-.4-.92-.59-1.43-.59-.52 0-1.04.2-1.43.59L10.3 9.45l-7.72 7.72c-.78.78-.78 2.05 0 2.83L4 21.41c.39.39.9.59 1.41.59.51 0 1.02-.2 1.41-.59l7.78-7.78 2.81-2.81c.8-.78.8-2.07 0-2.86zM5.41 20L4 18.59l7.72-7.72 1.47 1.35L5.41 20z\"/>\n",
              "  </svg>\n",
              "      </button>\n",
              "      \n",
              "  <style>\n",
              "    .colab-df-container {\n",
              "      display:flex;\n",
              "      flex-wrap:wrap;\n",
              "      gap: 12px;\n",
              "    }\n",
              "\n",
              "    .colab-df-convert {\n",
              "      background-color: #E8F0FE;\n",
              "      border: none;\n",
              "      border-radius: 50%;\n",
              "      cursor: pointer;\n",
              "      display: none;\n",
              "      fill: #1967D2;\n",
              "      height: 32px;\n",
              "      padding: 0 0 0 0;\n",
              "      width: 32px;\n",
              "    }\n",
              "\n",
              "    .colab-df-convert:hover {\n",
              "      background-color: #E2EBFA;\n",
              "      box-shadow: 0px 1px 2px rgba(60, 64, 67, 0.3), 0px 1px 3px 1px rgba(60, 64, 67, 0.15);\n",
              "      fill: #174EA6;\n",
              "    }\n",
              "\n",
              "    [theme=dark] .colab-df-convert {\n",
              "      background-color: #3B4455;\n",
              "      fill: #D2E3FC;\n",
              "    }\n",
              "\n",
              "    [theme=dark] .colab-df-convert:hover {\n",
              "      background-color: #434B5C;\n",
              "      box-shadow: 0px 1px 3px 1px rgba(0, 0, 0, 0.15);\n",
              "      filter: drop-shadow(0px 1px 2px rgba(0, 0, 0, 0.3));\n",
              "      fill: #FFFFFF;\n",
              "    }\n",
              "  </style>\n",
              "\n",
              "      <script>\n",
              "        const buttonEl =\n",
              "          document.querySelector('#df-cf50c450-89de-48bc-8529-1fdce1c46e29 button.colab-df-convert');\n",
              "        buttonEl.style.display =\n",
              "          google.colab.kernel.accessAllowed ? 'block' : 'none';\n",
              "\n",
              "        async function convertToInteractive(key) {\n",
              "          const element = document.querySelector('#df-cf50c450-89de-48bc-8529-1fdce1c46e29');\n",
              "          const dataTable =\n",
              "            await google.colab.kernel.invokeFunction('convertToInteractive',\n",
              "                                                     [key], {});\n",
              "          if (!dataTable) return;\n",
              "\n",
              "          const docLinkHtml = 'Like what you see? Visit the ' +\n",
              "            '<a target=\"_blank\" href=https://colab.research.google.com/notebooks/data_table.ipynb>data table notebook</a>'\n",
              "            + ' to learn more about interactive tables.';\n",
              "          element.innerHTML = '';\n",
              "          dataTable['output_type'] = 'display_data';\n",
              "          await google.colab.output.renderOutput(dataTable, element);\n",
              "          const docLink = document.createElement('div');\n",
              "          docLink.innerHTML = docLinkHtml;\n",
              "          element.appendChild(docLink);\n",
              "        }\n",
              "      </script>\n",
              "    </div>\n",
              "  </div>\n",
              "  "
            ]
          },
          "metadata": {},
          "execution_count": 3
        }
      ]
    },
    {
      "cell_type": "markdown",
      "source": [
        "It is important to note that a portion of the data includes categorical features in the form of text. In order to utilize this data effectively, it is necessary to convert these categorical features into numerical representations."
      ],
      "metadata": {
        "id": "qe_cFFD4XXX_"
      }
    },
    {
      "cell_type": "code",
      "source": [
        "convert_dic = {'Sim': 0, \n",
        "                'Nao': 1}\n",
        "numerical_data = data[['Conjuge', 'Dependentes', 'TelefoneFixo', 'PagamentoOnline', 'Churn']].replace(convert_dic)\n",
        "numerical_data.head()\n",
        "\n",
        "numerical_data = pd.concat([numerical_data, pd.get_dummies(data.drop(['Conjuge', 'Dependentes', 'TelefoneFixo', 'PagamentoOnline', 'Churn'],\n",
        "                axis=1))], axis=1)\n",
        "\n",
        "numerical_data.head()"
      ],
      "metadata": {
        "colab": {
          "base_uri": "https://localhost:8080/",
          "height": 299
        },
        "id": "m0_uKDguWqdT",
        "outputId": "8b50e572-c92c-47f8-9366-aeb31b1ae20c"
      },
      "execution_count": 3,
      "outputs": [
        {
          "output_type": "execute_result",
          "data": {
            "text/plain": [
              "   Conjuge  Dependentes  TelefoneFixo  PagamentoOnline  Churn  Maior65Anos  \\\n",
              "0        0            1             1                0      1            0   \n",
              "1        1            1             0                1      1            0   \n",
              "2        1            1             0                0      0            0   \n",
              "3        1            1             1                1      1            0   \n",
              "4        1            1             0                0      0            0   \n",
              "\n",
              "   MesesDeContrato  ContaMensal  VariasLinhasTelefonicas_Nao  \\\n",
              "0                1        29.85                            0   \n",
              "1               34        56.95                            1   \n",
              "2                2        53.85                            1   \n",
              "3               45        42.30                            0   \n",
              "4                2        70.70                            1   \n",
              "\n",
              "   VariasLinhasTelefonicas_SemServicoTelefonico  ...  StreamingDeFilmes_Nao  \\\n",
              "0                                             1  ...                      1   \n",
              "1                                             0  ...                      1   \n",
              "2                                             0  ...                      1   \n",
              "3                                             1  ...                      1   \n",
              "4                                             0  ...                      1   \n",
              "\n",
              "   StreamingDeFilmes_SemServicoDeInternet  StreamingDeFilmes_Sim  \\\n",
              "0                                       0                      0   \n",
              "1                                       0                      0   \n",
              "2                                       0                      0   \n",
              "3                                       0                      0   \n",
              "4                                       0                      0   \n",
              "\n",
              "   TipoDeContrato_DoisAnos  TipoDeContrato_Mensalmente  TipoDeContrato_UmAno  \\\n",
              "0                        0                           1                     0   \n",
              "1                        0                           0                     1   \n",
              "2                        0                           1                     0   \n",
              "3                        0                           0                     1   \n",
              "4                        0                           1                     0   \n",
              "\n",
              "   FormaDePagamento_CartaoDeCredito  FormaDePagamento_ChequeDigital  \\\n",
              "0                                 0                               1   \n",
              "1                                 0                               0   \n",
              "2                                 0                               0   \n",
              "3                                 0                               0   \n",
              "4                                 0                               1   \n",
              "\n",
              "   FormaDePagamento_ChequePapel  FormaDePagamento_DebitoEmConta  \n",
              "0                             0                               0  \n",
              "1                             1                               0  \n",
              "2                             1                               0  \n",
              "3                             0                               1  \n",
              "4                             0                               0  \n",
              "\n",
              "[5 rows x 39 columns]"
            ],
            "text/html": [
              "\n",
              "  <div id=\"df-755016d0-1349-4e32-8cfe-1cb3c8a94432\">\n",
              "    <div class=\"colab-df-container\">\n",
              "      <div>\n",
              "<style scoped>\n",
              "    .dataframe tbody tr th:only-of-type {\n",
              "        vertical-align: middle;\n",
              "    }\n",
              "\n",
              "    .dataframe tbody tr th {\n",
              "        vertical-align: top;\n",
              "    }\n",
              "\n",
              "    .dataframe thead th {\n",
              "        text-align: right;\n",
              "    }\n",
              "</style>\n",
              "<table border=\"1\" class=\"dataframe\">\n",
              "  <thead>\n",
              "    <tr style=\"text-align: right;\">\n",
              "      <th></th>\n",
              "      <th>Conjuge</th>\n",
              "      <th>Dependentes</th>\n",
              "      <th>TelefoneFixo</th>\n",
              "      <th>PagamentoOnline</th>\n",
              "      <th>Churn</th>\n",
              "      <th>Maior65Anos</th>\n",
              "      <th>MesesDeContrato</th>\n",
              "      <th>ContaMensal</th>\n",
              "      <th>VariasLinhasTelefonicas_Nao</th>\n",
              "      <th>VariasLinhasTelefonicas_SemServicoTelefonico</th>\n",
              "      <th>...</th>\n",
              "      <th>StreamingDeFilmes_Nao</th>\n",
              "      <th>StreamingDeFilmes_SemServicoDeInternet</th>\n",
              "      <th>StreamingDeFilmes_Sim</th>\n",
              "      <th>TipoDeContrato_DoisAnos</th>\n",
              "      <th>TipoDeContrato_Mensalmente</th>\n",
              "      <th>TipoDeContrato_UmAno</th>\n",
              "      <th>FormaDePagamento_CartaoDeCredito</th>\n",
              "      <th>FormaDePagamento_ChequeDigital</th>\n",
              "      <th>FormaDePagamento_ChequePapel</th>\n",
              "      <th>FormaDePagamento_DebitoEmConta</th>\n",
              "    </tr>\n",
              "  </thead>\n",
              "  <tbody>\n",
              "    <tr>\n",
              "      <th>0</th>\n",
              "      <td>0</td>\n",
              "      <td>1</td>\n",
              "      <td>1</td>\n",
              "      <td>0</td>\n",
              "      <td>1</td>\n",
              "      <td>0</td>\n",
              "      <td>1</td>\n",
              "      <td>29.85</td>\n",
              "      <td>0</td>\n",
              "      <td>1</td>\n",
              "      <td>...</td>\n",
              "      <td>1</td>\n",
              "      <td>0</td>\n",
              "      <td>0</td>\n",
              "      <td>0</td>\n",
              "      <td>1</td>\n",
              "      <td>0</td>\n",
              "      <td>0</td>\n",
              "      <td>1</td>\n",
              "      <td>0</td>\n",
              "      <td>0</td>\n",
              "    </tr>\n",
              "    <tr>\n",
              "      <th>1</th>\n",
              "      <td>1</td>\n",
              "      <td>1</td>\n",
              "      <td>0</td>\n",
              "      <td>1</td>\n",
              "      <td>1</td>\n",
              "      <td>0</td>\n",
              "      <td>34</td>\n",
              "      <td>56.95</td>\n",
              "      <td>1</td>\n",
              "      <td>0</td>\n",
              "      <td>...</td>\n",
              "      <td>1</td>\n",
              "      <td>0</td>\n",
              "      <td>0</td>\n",
              "      <td>0</td>\n",
              "      <td>0</td>\n",
              "      <td>1</td>\n",
              "      <td>0</td>\n",
              "      <td>0</td>\n",
              "      <td>1</td>\n",
              "      <td>0</td>\n",
              "    </tr>\n",
              "    <tr>\n",
              "      <th>2</th>\n",
              "      <td>1</td>\n",
              "      <td>1</td>\n",
              "      <td>0</td>\n",
              "      <td>0</td>\n",
              "      <td>0</td>\n",
              "      <td>0</td>\n",
              "      <td>2</td>\n",
              "      <td>53.85</td>\n",
              "      <td>1</td>\n",
              "      <td>0</td>\n",
              "      <td>...</td>\n",
              "      <td>1</td>\n",
              "      <td>0</td>\n",
              "      <td>0</td>\n",
              "      <td>0</td>\n",
              "      <td>1</td>\n",
              "      <td>0</td>\n",
              "      <td>0</td>\n",
              "      <td>0</td>\n",
              "      <td>1</td>\n",
              "      <td>0</td>\n",
              "    </tr>\n",
              "    <tr>\n",
              "      <th>3</th>\n",
              "      <td>1</td>\n",
              "      <td>1</td>\n",
              "      <td>1</td>\n",
              "      <td>1</td>\n",
              "      <td>1</td>\n",
              "      <td>0</td>\n",
              "      <td>45</td>\n",
              "      <td>42.30</td>\n",
              "      <td>0</td>\n",
              "      <td>1</td>\n",
              "      <td>...</td>\n",
              "      <td>1</td>\n",
              "      <td>0</td>\n",
              "      <td>0</td>\n",
              "      <td>0</td>\n",
              "      <td>0</td>\n",
              "      <td>1</td>\n",
              "      <td>0</td>\n",
              "      <td>0</td>\n",
              "      <td>0</td>\n",
              "      <td>1</td>\n",
              "    </tr>\n",
              "    <tr>\n",
              "      <th>4</th>\n",
              "      <td>1</td>\n",
              "      <td>1</td>\n",
              "      <td>0</td>\n",
              "      <td>0</td>\n",
              "      <td>0</td>\n",
              "      <td>0</td>\n",
              "      <td>2</td>\n",
              "      <td>70.70</td>\n",
              "      <td>1</td>\n",
              "      <td>0</td>\n",
              "      <td>...</td>\n",
              "      <td>1</td>\n",
              "      <td>0</td>\n",
              "      <td>0</td>\n",
              "      <td>0</td>\n",
              "      <td>1</td>\n",
              "      <td>0</td>\n",
              "      <td>0</td>\n",
              "      <td>1</td>\n",
              "      <td>0</td>\n",
              "      <td>0</td>\n",
              "    </tr>\n",
              "  </tbody>\n",
              "</table>\n",
              "<p>5 rows × 39 columns</p>\n",
              "</div>\n",
              "      <button class=\"colab-df-convert\" onclick=\"convertToInteractive('df-755016d0-1349-4e32-8cfe-1cb3c8a94432')\"\n",
              "              title=\"Convert this dataframe to an interactive table.\"\n",
              "              style=\"display:none;\">\n",
              "        \n",
              "  <svg xmlns=\"http://www.w3.org/2000/svg\" height=\"24px\"viewBox=\"0 0 24 24\"\n",
              "       width=\"24px\">\n",
              "    <path d=\"M0 0h24v24H0V0z\" fill=\"none\"/>\n",
              "    <path d=\"M18.56 5.44l.94 2.06.94-2.06 2.06-.94-2.06-.94-.94-2.06-.94 2.06-2.06.94zm-11 1L8.5 8.5l.94-2.06 2.06-.94-2.06-.94L8.5 2.5l-.94 2.06-2.06.94zm10 10l.94 2.06.94-2.06 2.06-.94-2.06-.94-.94-2.06-.94 2.06-2.06.94z\"/><path d=\"M17.41 7.96l-1.37-1.37c-.4-.4-.92-.59-1.43-.59-.52 0-1.04.2-1.43.59L10.3 9.45l-7.72 7.72c-.78.78-.78 2.05 0 2.83L4 21.41c.39.39.9.59 1.41.59.51 0 1.02-.2 1.41-.59l7.78-7.78 2.81-2.81c.8-.78.8-2.07 0-2.86zM5.41 20L4 18.59l7.72-7.72 1.47 1.35L5.41 20z\"/>\n",
              "  </svg>\n",
              "      </button>\n",
              "      \n",
              "  <style>\n",
              "    .colab-df-container {\n",
              "      display:flex;\n",
              "      flex-wrap:wrap;\n",
              "      gap: 12px;\n",
              "    }\n",
              "\n",
              "    .colab-df-convert {\n",
              "      background-color: #E8F0FE;\n",
              "      border: none;\n",
              "      border-radius: 50%;\n",
              "      cursor: pointer;\n",
              "      display: none;\n",
              "      fill: #1967D2;\n",
              "      height: 32px;\n",
              "      padding: 0 0 0 0;\n",
              "      width: 32px;\n",
              "    }\n",
              "\n",
              "    .colab-df-convert:hover {\n",
              "      background-color: #E2EBFA;\n",
              "      box-shadow: 0px 1px 2px rgba(60, 64, 67, 0.3), 0px 1px 3px 1px rgba(60, 64, 67, 0.15);\n",
              "      fill: #174EA6;\n",
              "    }\n",
              "\n",
              "    [theme=dark] .colab-df-convert {\n",
              "      background-color: #3B4455;\n",
              "      fill: #D2E3FC;\n",
              "    }\n",
              "\n",
              "    [theme=dark] .colab-df-convert:hover {\n",
              "      background-color: #434B5C;\n",
              "      box-shadow: 0px 1px 3px 1px rgba(0, 0, 0, 0.15);\n",
              "      filter: drop-shadow(0px 1px 2px rgba(0, 0, 0, 0.3));\n",
              "      fill: #FFFFFF;\n",
              "    }\n",
              "  </style>\n",
              "\n",
              "      <script>\n",
              "        const buttonEl =\n",
              "          document.querySelector('#df-755016d0-1349-4e32-8cfe-1cb3c8a94432 button.colab-df-convert');\n",
              "        buttonEl.style.display =\n",
              "          google.colab.kernel.accessAllowed ? 'block' : 'none';\n",
              "\n",
              "        async function convertToInteractive(key) {\n",
              "          const element = document.querySelector('#df-755016d0-1349-4e32-8cfe-1cb3c8a94432');\n",
              "          const dataTable =\n",
              "            await google.colab.kernel.invokeFunction('convertToInteractive',\n",
              "                                                     [key], {});\n",
              "          if (!dataTable) return;\n",
              "\n",
              "          const docLinkHtml = 'Like what you see? Visit the ' +\n",
              "            '<a target=\"_blank\" href=https://colab.research.google.com/notebooks/data_table.ipynb>data table notebook</a>'\n",
              "            + ' to learn more about interactive tables.';\n",
              "          element.innerHTML = '';\n",
              "          dataTable['output_type'] = 'display_data';\n",
              "          await google.colab.output.renderOutput(dataTable, element);\n",
              "          const docLink = document.createElement('div');\n",
              "          docLink.innerHTML = docLinkHtml;\n",
              "          element.appendChild(docLink);\n",
              "        }\n",
              "      </script>\n",
              "    </div>\n",
              "  </div>\n",
              "  "
            ]
          },
          "metadata": {},
          "execution_count": 3
        }
      ]
    },
    {
      "cell_type": "markdown",
      "source": [
        "The target variable in this particular case is categorical. To ensure an unbiased model, it is important for the categories within the target variable to be proportionate or balanced.\n",
        "\n",
        "Firstly, we will create a plot to visualize the distribution of the target variable:"
      ],
      "metadata": {
        "id": "hYdVHmeJZglK"
      }
    },
    {
      "cell_type": "code",
      "source": [
        "import seaborn as sns\n",
        "%matplotlib inline\n",
        "\n",
        "ax = sns.countplot(x='Churn', data= numerical_data)"
      ],
      "metadata": {
        "colab": {
          "base_uri": "https://localhost:8080/",
          "height": 449
        },
        "id": "lKfYEnKpYMsn",
        "outputId": "fea05184-c805-4989-c6b7-860a74a1e1da"
      },
      "execution_count": 4,
      "outputs": [
        {
          "output_type": "display_data",
          "data": {
            "text/plain": [
              "<Figure size 640x480 with 1 Axes>"
            ],
            "image/png": "[encoded data removed]"
          },
          "metadata": {}
        }
      ]
    },
    {
      "cell_type": "markdown",
      "source": [
        "The proportion of instances with \"Churn = 0\" is larger than those with \"Churn = 1\". In order to balance the data and make it more proportional, we will utilize the SMOTE (Synthetic Minority Over-sampling Technique) algorithm to oversample the data"
      ],
      "metadata": {
        "id": "sfvB_SHGbiR5"
      }
    },
    {
      "cell_type": "code",
      "source": [
        "from imblearn.over_sampling import SMOTE\n",
        "\n",
        "X = numerical_data.drop('Churn', axis = 1)\n",
        "y = numerical_data['Churn']\n",
        "\n",
        "\n",
        "smt = SMOTE(random_state=123)  \n",
        "X, y = smt.fit_resample(X, y)  \n",
        "\n",
        "final_data = pd.concat([X, y], axis=1)\n",
        "\n",
        "ax = sns.countplot(x='Churn', data= final_data)"
      ],
      "metadata": {
        "colab": {
          "base_uri": "https://localhost:8080/",
          "height": 449
        },
        "id": "FI7BXxf6Z5Gy",
        "outputId": "40fa8752-d0d9-4c38-8b33-b47174fb1458"
      },
      "execution_count": 5,
      "outputs": [
        {
          "output_type": "display_data",
          "data": {
            "text/plain": [
              "<Figure size 640x480 with 1 Axes>"
            ],
            "image/png": "[encoded data removed]"
          },
          "metadata": {}
        }
      ]
    },
    {
      "cell_type": "markdown",
      "source": [
        "Now, we will proceed with data rescaling."
      ],
      "metadata": {
        "id": "3YEsnb-tx85x"
      }
    },
    {
      "cell_type": "code",
      "source": [
        "from sklearn.preprocessing import StandardScaler\n",
        "from sklearn.model_selection import train_test_split\n",
        "\n",
        "x = final_data.drop('Churn', axis = 1)\n",
        "\n",
        "y = final_data['Churn']\n",
        "\n",
        "norm = StandardScaler()\n",
        "\n",
        "X_norm = norm.fit_transform(x)\n"
      ],
      "metadata": {
        "id": "jDkQcMQgbUFR"
      },
      "execution_count": 6,
      "outputs": []
    },
    {
      "cell_type": "markdown",
      "source": [
        "We will split the data into training and test sets and proceed to implement the K Nearest Neighbors (KNN) classifier."
      ],
      "metadata": {
        "id": "HQl1VTfAz9F1"
      }
    },
    {
      "cell_type": "code",
      "source": [
        "from sklearn.model_selection import train_test_split\n",
        "from sklearn.neighbors import KNeighborsClassifier\n",
        "\n",
        "\n",
        "X_train, X_test, y_train, y_test = train_test_split(X_norm,y, \n",
        "                                                        test_size=0.3, random_state=123 )\n",
        "\n",
        "\n",
        "knn = KNeighborsClassifier(metric='euclidean')\n",
        "knn.fit(X_train, y_train)\n",
        "\n",
        "predict_knn = knn.predict(X_test)"
      ],
      "metadata": {
        "id": "Jb5dyjI8y9t3"
      },
      "execution_count": 7,
      "outputs": []
    },
    {
      "cell_type": "markdown",
      "source": [
        "Now we use the Naive Bayes classifier for multivariate Bernoulli models."
      ],
      "metadata": {
        "id": "JpS1Uoc91Ly4"
      }
    },
    {
      "cell_type": "code",
      "source": [
        "from sklearn.naive_bayes import BernoulliNB\n",
        "\n",
        "\n",
        "bnb = BernoulliNB(binarize= 0.0)\n",
        "bnb.fit(X_train, y_train)\n",
        "predict_BNb = bnb.predict(X_test)"
      ],
      "metadata": {
        "id": "nPwp5Bvh0jK-"
      },
      "execution_count": 8,
      "outputs": []
    },
    {
      "cell_type": "markdown",
      "source": [
        "Lastly, we will apply the Decision Tree Classifier to the data."
      ],
      "metadata": {
        "id": "kMA3nAeP3bQQ"
      }
    },
    {
      "cell_type": "code",
      "source": [
        "from sklearn.tree import DecisionTreeClassifier\n",
        "\n",
        "\n",
        "dtc = DecisionTreeClassifier(criterion='entropy', random_state=42)\n",
        "dtc.fit(X_train, y_train)\n",
        "predict_decisiontree = dtc.predict(X_test)"
      ],
      "metadata": {
        "id": "j2QhidtX3asl"
      },
      "execution_count": 9,
      "outputs": []
    },
    {
      "cell_type": "markdown",
      "source": [
        "It is time to see the confusion matrix"
      ],
      "metadata": {
        "id": "0yu1igI74HHt"
      }
    },
    {
      "cell_type": "code",
      "source": [
        "from sklearn.metrics import confusion_matrix\n",
        "from sklearn.metrics import accuracy_score"
      ],
      "metadata": {
        "id": "lpxM-CXk3nPt"
      },
      "execution_count": 35,
      "outputs": []
    },
    {
      "cell_type": "code",
      "source": [
        "cm_knn = confusion_matrix(y_test, predict_knn)\n",
        "ac_knn = accuracy_score(y_test, predict_knn)\n",
        "cm_bnb = confusion_matrix(y_test, predict_BNb)\n",
        "ac_bnb = accuracy_score(y_test, predict_BNb)\n",
        "cm_dtc = confusion_matrix(y_test, predict_decisiontree)\n",
        "ac_dtc = accuracy_score(y_test, predict_decisiontree)\n",
        "print('[[ TP  FN \\n   TP  VN ]]')\n",
        "\n",
        "\n",
        "print('\\nK Nearest Neighbors')\n",
        "print(cm_knn)\n",
        "print(ac_knn)\n",
        "\n",
        "\n",
        "print('\\nNaive Bayes classifier for multivariate Bernoulli models')\n",
        "print(cm_bnb)\n",
        "print(ac_bnb)\n",
        "\n",
        "print('\\nDecision Tree Classifier ')\n",
        "print(cm_dtc)\n",
        "print(ac_dtc)\n"
      ],
      "metadata": {
        "colab": {
          "base_uri": "https://localhost:8080/"
        },
        "id": "GLJHHUnD4KY1",
        "outputId": "e36c6e4f-18ee-4766-a942-730daa5a82ac"
      },
      "execution_count": 38,
      "outputs": [
        {
          "output_type": "stream",
          "name": "stdout",
          "text": [
            "[[ TP  FN \n",
            "   TP  VN ]]\n",
            "\n",
            "K Nearest Neighbors\n",
            "[[1296  240]\n",
            " [ 333 1236]]\n",
            "0.8154589371980676\n",
            "\n",
            "Naive Bayes classifier for multivariate Bernoulli models\n",
            "[[1292  244]\n",
            " [ 489 1080]]\n",
            "0.7639291465378422\n",
            "\n",
            "Decision Tree Classifier \n",
            "[[1253  283]\n",
            " [ 297 1272]]\n",
            "0.8132045088566827\n"
          ]
        }
      ]
    },
    {
      "cell_type": "markdown",
      "source": [
        "Since we have three different models that provide different answers, I will combine the outputs of these models to generate a result that takes into account their collective insights. The first question to address is: if a model gives a positive prediction, what is the probability that it is a true positive? In other words, given a positive prediction from the model, what is the likelihood that it corresponds to an actual positive outcome? To answer that we can use the Bayes' theorem:\n",
        "\n",
        "\\begin{equation}\n",
        "  p(A|B) = \\frac{p(B|A)\\;p(A)}{p(B)},\n",
        "\\end{equation}\n",
        "\n",
        "we will denote:\n",
        "\n",
        "MT - Model return positive\n",
        "\n",
        "MF - Model return Negative\n",
        "\n",
        "P - It is Positive\n",
        "\n",
        "N - it is Negative\n",
        "\n",
        "\n",
        "In this way,\n",
        "\\begin{equation}\n",
        "  p(P|RP) = \\frac{p(RP|P)\\;p(P)}{p(RP)}\n",
        "\\end{equation}\n",
        "\n",
        "\n",
        "The notation $p(RP|P)$ represents the probability of a true positive, where RP stands for \"real positive\" and P represents a positive prediction from the model. On the other hand, $p(P)$ denotes the probability of receiving a positive prediction in the dataset, and $p(RP)$ represents the sum of the probabilities of receiving a positive prediction from the model. In the same way it easy to calculate the $p(N|RN)$. \n",
        "\n",
        "Lastly, I will utilize the probability as a weight factor for each model. By assigning weights based on the probabilities generated by the models, we can incorporate their relative confidence levels into the final decision or result.\n"
      ],
      "metadata": {
        "id": "ziXQbyht9UmZ"
      }
    },
    {
      "cell_type": "code",
      "source": [
        "def prob_better(x,knn,bnb,dtc,cm_knn,cm_bnb,cm_dtc,y_test):\n",
        "  y_knn = knn(x)\n",
        "  y_bnb = bnb(x)\n",
        "  y_dtc = dtc(x)\n",
        "\n",
        "  N= len(y_test)\n",
        "  p_n = np.count_nonzero(y_test) / N\n",
        "  p_v = 1 - p_n\n",
        "  \n",
        "\n",
        "  p_knn = cm_knn/N\n",
        "  p_knn_v_tp = p_knn[0,0]*p_v/(p_knn[0,0]+p_knn[1,0])\n",
        "  p_knn_n_tn = p_knn[1,1]*p_v/(p_knn[1,1]+p_knn[0,1])\n",
        "  p_knn_b = [p_knn_v_tp, p_knn_n_tn]\n",
        "  \n",
        "\n",
        "\n",
        "  p_bnb = cm_bnb/N\n",
        "  p_bnb_v_tp = p_bnb[0,0]*p_v/(p_bnb[0,0]+p_bnb[1,0])\n",
        "  p_bnb_n_tn = p_bnb[1,1]*p_v/(p_bnb[1,1]+p_bnb[0,1])\n",
        "  p_bnb_b = [p_bnb_v_tp, p_bnb_n_tn]\n",
        "\n",
        "  p_dtc = cm_dtc/N\n",
        "  p_dtc_v_tp = p_dtc[0,0]*p_v/(p_dtc[0,0]+p_dtc[1,0])\n",
        "  p_dtc_n_tn = p_dtc[1,1]*p_v/(p_dtc[1,1]+p_dtc[0,1])\n",
        "  p_dtc_b = [p_dtc_v_tp, p_dtc_n_tn]\n",
        "\n",
        "\n",
        "\n",
        "  print('Model,\\t VP,\\t\\t VN')\n",
        "\n",
        "  print('knn',p_knn_b)\n",
        "  print('bnb',p_bnb_b)\n",
        "  print('dtc',p_dtc_b)\n",
        "\n",
        "  y_final = np.zeros(len(y_test))\n",
        "  for i in range(len(y_test)):\n",
        "\n",
        "    y_final[i] = (y_knn[i]*p_knn_b[int(y_knn[i])] + y_bnb[i]*p_bnb_b[int(y_bnb[i])] + y_dtc[i]*p_dtc_b[int(y_dtc[i])])\n",
        "#    print(y_knn[i],y_bnb[i],y_dtc[i])\n",
        "#    print(p_knn_b[int(y_knn[i])],p_bnb_b[int(y_bnb[i])],p_dtc_b[int(y_dtc[i])])\n",
        "    y_final[i] = y_final[i] /(p_knn_b[int(y_knn[i])] + p_bnb_b[y_bnb[i]] + p_dtc_b[y_dtc[i]] )\n",
        "#    print(int(y_final[i]+0.5),'\\n')\n",
        "    y_final[i] = int(y_final[i] +0.5) \n",
        "  \n",
        "\n",
        "  return np.array(y_final)\n",
        "\n"
      ],
      "metadata": {
        "id": "iasv1cmg-xXh"
      },
      "execution_count": 54,
      "outputs": []
    },
    {
      "cell_type": "code",
      "source": [
        "y_final=prob_better(X_test,knn.predict,bnb.predict,dtc.predict,cm_knn,cm_bnb,cm_dtc,y_test)"
      ],
      "metadata": {
        "colab": {
          "base_uri": "https://localhost:8080/"
        },
        "id": "RlZUjSRpbswd",
        "outputId": "e9f177a2-9b6c-4de8-b011-c938ed89ad4e"
      },
      "execution_count": 55,
      "outputs": [
        {
          "output_type": "stream",
          "name": "stdout",
          "text": [
            "Model,\t VP,\t\t VN\n",
            "knn [0.3935623348546722, 0.4142492439417148]\n",
            "bnb [0.3588626050066863, 0.4035202942335479]\n",
            "dtc [0.3998977715443354, 0.4046563213570064]\n"
          ]
        }
      ]
    },
    {
      "cell_type": "markdown",
      "source": [
        "Showing the confusion matrix of each model and the prediction with the statistic weight of each:"
      ],
      "metadata": {
        "id": "xm_e1CmSojuz"
      }
    },
    {
      "cell_type": "code",
      "source": [
        "print('[[ TP  FN \\n   FP  TN ]]')\n",
        "\n",
        "\n",
        "\n",
        "print('\\nK Nearest Neighbors')\n",
        "print(cm_knn)\n",
        "print(ac_knn)\n",
        "\n",
        "\n",
        "print('\\nNaive Bayes classifier for multivariate Bernoulli models')\n",
        "print(cm_bnb)\n",
        "print(ac_bnb)\n",
        "\n",
        "print('\\nDecision Tree Classifier ')\n",
        "print(cm_dtc)\n",
        "print(ac_dtc)\n",
        "\n",
        "print('\\nDecision statistic')\n",
        "print(confusion_matrix(y_test, y_final))\n",
        "print(accuracy_score(y_test, y_final))"
      ],
      "metadata": {
        "colab": {
          "base_uri": "https://localhost:8080/"
        },
        "id": "9eR5x_W1-zfV",
        "outputId": "7b3f6d8d-f887-4e98-ad4c-c9d74ee077ad"
      },
      "execution_count": 56,
      "outputs": [
        {
          "output_type": "stream",
          "name": "stdout",
          "text": [
            "[[ TP  FN \n",
            "   FP  TN ]]\n",
            "\n",
            "K Nearest Neighbors\n",
            "[[1296  240]\n",
            " [ 333 1236]]\n",
            "0.8154589371980676\n",
            "\n",
            "Naive Bayes classifier for multivariate Bernoulli models\n",
            "[[1292  244]\n",
            " [ 489 1080]]\n",
            "0.7639291465378422\n",
            "\n",
            "Decision Tree Classifier \n",
            "[[1253  283]\n",
            " [ 297 1272]]\n",
            "0.8132045088566827\n",
            "\n",
            "Decision statistic\n",
            "[[1342  194]\n",
            " [ 366 1203]]\n",
            "0.8196457326892109\n"
          ]
        }
      ]
    },
    {
      "cell_type": "markdown",
      "source": [
        "As observed, the model that merges the other models based on confidence demonstrates better accuracy in its overall performance. However, it is important to note that this merged model may not necessarily outperform the individual models in every aspect of the confusion matrix. "
      ],
      "metadata": {
        "id": "76POvjVTp0Sj"
      }
    },
    {
      "cell_type": "code",
      "source": [],
      "metadata": {
        "id": "6afAzmX6e20b"
      },
      "execution_count": 14,
      "outputs": []
    }
  ]
}